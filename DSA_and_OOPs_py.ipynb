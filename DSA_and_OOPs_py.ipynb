{
  "nbformat": 4,
  "nbformat_minor": 0,
  "metadata": {
    "colab": {
      "provenance": [],
      "collapsed_sections": [
        "ZKB3KQuCweM_",
        "1yAcOfPjFtuJ",
        "NFj-qYv5zI6c"
      ],
      "authorship_tag": "ABX9TyOXbZ9Qr1S7xWRklbrh6gRP",
      "include_colab_link": true
    },
    "kernelspec": {
      "name": "python3",
      "display_name": "Python 3"
    },
    "language_info": {
      "name": "python"
    }
  },
  "cells": [
    {
      "cell_type": "markdown",
      "metadata": {
        "id": "view-in-github",
        "colab_type": "text"
      },
      "source": [
        "<a href=\"https://colab.research.google.com/github/DasariRishikesh/DSA-and-OOPs-with-Python/blob/main/DSA_and_OOPs_py.ipynb\" target=\"_parent\"><img src=\"https://colab.research.google.com/assets/colab-badge.svg\" alt=\"Open In Colab\"/></a>"
      ]
    },
    {
      "cell_type": "markdown",
      "source": [
        "##DATA STRUCTURES AND ALGORITHMS USING PYTHON PROGRAMMING LANGUAGE "
      ],
      "metadata": {
        "id": "ZKB3KQuCweM_"
      }
    },
    {
      "cell_type": "markdown",
      "source": [
        "#1.Recursion problems\n",
        "\n",
        "\n",
        "Step-1 : Recursive case - the flow\n",
        "\n",
        "Step-2 : Base Case - the stopping criterion\n",
        "\n",
        "Step-3 : The unconditional case - the constraint"
      ],
      "metadata": {
        "id": "AWy6h1mEpL84"
      }
    },
    {
      "cell_type": "markdown",
      "source": [
        "a. How to find a sum of digits of a positive integer number using recursion"
      ],
      "metadata": {
        "id": "Szi77gKWprI_"
      }
    },
    {
      "cell_type": "markdown",
      "source": [
        "sol : f(n) =  n%10 + f(n/10)"
      ],
      "metadata": {
        "id": "xlCn7raBstr8"
      }
    },
    {
      "cell_type": "code",
      "execution_count": null,
      "metadata": {
        "colab": {
          "base_uri": "https://localhost:8080/"
        },
        "id": "KDMhqTi2pEiw",
        "outputId": "bc941dd3-fadf-4010-ab4e-f56a360c3826"
      },
      "outputs": [
        {
          "output_type": "execute_result",
          "data": {
            "text/plain": [
              "19"
            ]
          },
          "metadata": {},
          "execution_count": 10
        }
      ],
      "source": [
        "def sumofdig(n):\n",
        "  assert n>=0 and int(n) == n,'The number must be positive integer'\n",
        "  if n==0:          #the base condition\n",
        "    return 0\n",
        "  else: \n",
        "    return int(n%10) + sumofdig(int(n/10))      #the recursive case\n",
        "\n",
        "sumofdig(4920202)"
      ]
    },
    {
      "cell_type": "markdown",
      "source": [
        "b. How to calculate power of number using recursion?"
      ],
      "metadata": {
        "id": "7abULvgMpKBM"
      }
    },
    {
      "cell_type": "markdown",
      "source": [
        "sol: f(X^n) = x * f(x^n-1)\n",
        "if n<0 then f(X^n) = x * f(x^n+1)"
      ],
      "metadata": {
        "id": "NzHZz0UiwrxW"
      }
    },
    {
      "cell_type": "code",
      "source": [
        "def powerofnum(base, pow):\n",
        "  assert int(pow) == pow, 'The power(exponent) should be posive and integer'\n",
        "  if pow==0:\n",
        "    return 1\n",
        "  elif pow<0:\n",
        "    return 1/base * powerofnum(base, pow+1)\n",
        "  else:\n",
        "    return base*powerofnum(base, pow-1)\n",
        "\n",
        "powerofnum(3,-2)\n"
      ],
      "metadata": {
        "colab": {
          "base_uri": "https://localhost:8080/"
        },
        "id": "rM3s86Sixm7K",
        "outputId": "bfe5b750-d6b2-4daf-ac86-69a5521e57fc"
      },
      "execution_count": null,
      "outputs": [
        {
          "output_type": "execute_result",
          "data": {
            "text/plain": [
              "0.1111111111111111"
            ]
          },
          "metadata": {},
          "execution_count": 29
        }
      ]
    },
    {
      "cell_type": "markdown",
      "source": [
        "c. Find the greatest common divisor(GCD) of two numbers using recursion."
      ],
      "metadata": {
        "id": "WzJTE07DzPIy"
      }
    },
    {
      "cell_type": "markdown",
      "source": [
        "sol: euclidean algorithm\n",
        "    gcd(a,b) = a/b => qoefficient= x and remainder = y\n",
        "    then again b/y until y==0\n",
        "    Therefore, gcd(a,b) return gcd(b, a mod b)"
      ],
      "metadata": {
        "id": "TNXNSjMF2td-"
      }
    },
    {
      "cell_type": "code",
      "source": [
        "def gcd(a,b):\n",
        "  assert int(a) == a and int(b)==b, 'The number must be posive integers'\n",
        "  if a<0:\n",
        "    a=-a\n",
        "  if b<0:\n",
        "    b=-b\n",
        "  if b==0:\n",
        "    return a\n",
        "  else:\n",
        "    return gcd(b, a%b)\n",
        "\n",
        "gcd(-12,-8)\n"
      ],
      "metadata": {
        "colab": {
          "base_uri": "https://localhost:8080/"
        },
        "id": "CYg438po4Tp9",
        "outputId": "db994b41-32cf-47ac-e908-4d07fbd24edf"
      },
      "execution_count": null,
      "outputs": [
        {
          "output_type": "execute_result",
          "data": {
            "text/plain": [
              "4"
            ]
          },
          "metadata": {},
          "execution_count": 35
        }
      ]
    },
    {
      "cell_type": "markdown",
      "source": [
        "d. How to convert a number from decimal to binary using recursion?"
      ],
      "metadata": {
        "id": "mWo7To8F4ULb"
      }
    },
    {
      "cell_type": "markdown",
      "source": [
        "sol: f(n) = n mod 2 + 10 * f(n/2)"
      ],
      "metadata": {
        "id": "x6s5uzG57tHe"
      }
    },
    {
      "cell_type": "code",
      "source": [
        "def dectobin(n):\n",
        "  assert int(n) == n, 'the number must be integer'\n",
        "  if n/2 == 0:\n",
        "    return 0\n",
        "  else:\n",
        "    return n%2 + 10 * dectobin(int(n/2))\n",
        "\n",
        "dectobin(101)"
      ],
      "metadata": {
        "colab": {
          "base_uri": "https://localhost:8080/"
        },
        "id": "OypmKzC57ptz",
        "outputId": "58ddc7e9-836b-4db9-f326-de9f88557ec8"
      },
      "execution_count": null,
      "outputs": [
        {
          "output_type": "execute_result",
          "data": {
            "text/plain": [
              "1100101"
            ]
          },
          "metadata": {},
          "execution_count": 53
        }
      ]
    },
    {
      "cell_type": "markdown",
      "source": [
        "**Additional problems**"
      ],
      "metadata": {
        "id": "VC8sHvtZ7qTp"
      }
    },
    {
      "cell_type": "code",
      "source": [
        "print('Power Solution')\n",
        "\n",
        "\n",
        "def power(base, exponent):\n",
        "    if exponent == 0:\n",
        "        return 1\n",
        "    return base * power(base, exponent-1)\n",
        "\n",
        "print(power(2,0)) # 1\n",
        "print(power(2,2)) # 4\n",
        "print(power(2,4)) # 16\n",
        "\n",
        "print(\"-----------------------------------------------------------------------------------\")\n",
        "print('Factorial Solution')\n",
        "\n",
        "def factorial(num):\n",
        "    if num <= 1:\n",
        "        return 1\n",
        "    return num * factorial(num-1)\n",
        "\n",
        "\n",
        "print(factorial(1)) # 1\n",
        "print(factorial(2)) # 2\n",
        "print(factorial(4)) # 24\n",
        "print(factorial(7)) # 5040\n",
        "print(\"-----------------------------------------------------------------------------------\")\n",
        "print('productOfArray Solution')\n",
        "\n",
        "def productOfArray(arr):\n",
        "    if len(arr) == 0:\n",
        "        return 1\n",
        "    return arr[0] * productOfArray(arr[1:])\n",
        "\n",
        "print(productOfArray([1,2,3])) #6\n",
        "print(productOfArray([1,2,3,10])) #60\n",
        "print(\"-----------------------------------------------------------------------------------\")\n",
        "print('recursiveRange Solution')\n",
        "\n",
        "def recursiveRange(num):\n",
        "    if num <= 0:\n",
        "        return 0\n",
        "    return num + recursiveRange(num - 1)\n",
        "\n",
        "\n",
        "print(recursiveRange(6))\n",
        "print(\"-----------------------------------------------------------------------------------\")\n",
        "print('fib Solution')\n",
        "\n",
        "def fib(num):\n",
        "    if (num < 2):\n",
        "        return num\n",
        "    return fib(num - 1) + fib(num - 2)\n",
        "\n",
        "\n",
        "\n",
        "print(fib(4)) # 3\n",
        "print(fib(10)) # 55\n",
        "print(fib(28)) # 317811\n",
        "print(fib(35)) # 9227465\n",
        "print(\"-----------------------------------------------------------------------------------\")\n",
        "print('reverse Solution')\n",
        "\n",
        "\n",
        "def reverse(strng):\n",
        "    if len(strng) <= 1:\n",
        "      return strng\n",
        "    return strng[len(strng)-1] + reverse(strng[0:len(strng)-1])\n",
        "\n",
        "\n",
        "print(reverse('python')) # 'nohtyp'\n",
        "print(reverse('appmillers')) # 'srellimppa'\n",
        "print(\"-----------------------------------------------------------------------------------\")\n",
        "print('isPalindrome Solution')\n",
        "\n",
        "\n",
        "def isPalindrome(strng):\n",
        "    if len(strng) == 0:\n",
        "        return True\n",
        "    if strng[0] != strng[len(strng)-1]:\n",
        "        return False\n",
        "    return isPalindrome(strng[1:-1])\n",
        "\n",
        "print(isPalindrome('awesome')) # false\n",
        "print(isPalindrome('foobar')) # false\n",
        "print(isPalindrome('tacocat')) # true\n",
        "print(isPalindrome('amanaplanacanalpanama')) # true\n",
        "print(isPalindrome('amanaplanacanalpandemonium')) # false\n",
        "print(\"-----------------------------------------------------------------------------------\")\n",
        "print('someRecursive Solution')\n",
        "\n",
        "def someRecursive(arr, cb):\n",
        "    if len(arr) == 0:\n",
        "        return False\n",
        "    if not(cb(arr[0])):\n",
        "        return someRecursive(arr[1:], cb)\n",
        "    return True\n",
        "\n",
        "def isOdd(num):\n",
        "    if num%2==0:\n",
        "        return False\n",
        "    else:\n",
        "        return True\n",
        "\n",
        "\n",
        "print(someRecursive([1,2,3,4], isOdd)) # true\n",
        "print(someRecursive([4,6,8,9], isOdd)) # true\n",
        "print(someRecursive([4,6,8], isOdd)) # false\n",
        "print(\"-----------------------------------------------------------------------------------\")\n",
        "print('flatten Solution')\n",
        "def flatten(arr):\n",
        "    resultArr = []\n",
        "    for custItem in arr:\n",
        "        if type(custItem) is list:\n",
        "            resultArr.extend(flatten(custItem))\n",
        "        else: \n",
        "            resultArr.append(custItem)\n",
        "    return resultArr \n",
        "\n",
        "\n",
        "\n",
        "print(flatten([1, 2, 3, [4, 5]])) # [1, 2, 3, 4, 5]\n",
        "print(flatten([1, [2, [3, 4], [[5]]]])) # [1, 2, 3, 4, 5]\n",
        "print(flatten([[1], [2], [3]])) # [1, 2, 3]\n",
        "print(flatten([[[[1], [[[2]]], [[[[[[[3]]]]]]]]]])) # [1, 2, 3]\n",
        "print(\"-----------------------------------------------------------------------------------\")\n",
        "print('capitalizeFirst Solution')\n",
        "\n",
        "def capitalizeFirst(arr):\n",
        "    result = []\n",
        "    if len(arr) == 0:\n",
        "        return result\n",
        "    result.append(arr[0][0].upper() + arr[0][1:])\n",
        "    return result + capitalizeFirst(arr[1:]) \n",
        "\n",
        "\n",
        "\n",
        "\n",
        "print(capitalizeFirst(['car', 'taco', 'banana'])) # ['Car','Taco','Banana']\n",
        "print(\"-----------------------------------------------------------------------------------\")\n",
        "print('nestedEvenSum Solution')\n",
        "\n",
        "def nestedEvenSum(obj, sum=0):\n",
        "    for key in obj:\n",
        "        if type(obj[key]) is dict:\n",
        "            sum += nestedEvenSum(obj[key])\n",
        "        elif type(obj[key]) is int and obj[key]%2==0:\n",
        "            sum+=obj[key]\n",
        "    return sum\n",
        "\n",
        "\n",
        "\n",
        "obj1 = {\n",
        "  \"outer\": 2,\n",
        "  \"obj\": {\n",
        "    \"inner\": 2,\n",
        "    \"otherObj\": {\n",
        "      \"superInner\": 2,\n",
        "      \"notANumber\": True,\n",
        "      \"alsoNotANumber\": \"yup\"\n",
        "    }\n",
        "  }\n",
        "}\n",
        "\n",
        "obj2 = {\n",
        "  \"a\": 2,\n",
        "  \"b\": {\"b\": 2, \"bb\": {\"b\": 3, \"bb\": {\"b\": 2}}},\n",
        "  \"c\": {\"c\": {\"c\": 2}, \"cc\": 'ball', \"ccc\": 5},\n",
        "  \"d\": 1,\n",
        "  \"e\": {\"e\": {\"e\": 2}, \"ee\": 'car'}\n",
        "}\n",
        "\n",
        "print(nestedEvenSum(obj1)) # 6\n",
        "print(nestedEvenSum(obj2)) # 10\n",
        "print(\"-----------------------------------------------------------------------------------\")\n",
        "print('capitalizeWords Solution')\n",
        "\n",
        "def capitalizeWords(arr):\n",
        "    result = []\n",
        "    if len(arr) == 0:\n",
        "        return result\n",
        "    result.append(arr[0].upper())\n",
        "    return result + capitalizeWords(arr[1:])\n",
        "\n",
        "\n",
        "\n",
        "words = ['i', 'am', 'learning', 'recursion']\n",
        "print(capitalizeWords(words)) # ['I', 'AM', 'LEARNING', 'RECURSION']\n",
        "print(\"-----------------------------------------------------------------------------------\")\n",
        "print('stringifyNumbers Solution')\n",
        "\n",
        "def stringifyNumbers(obj):\n",
        "    newObj = obj\n",
        "    for key in newObj:\n",
        "        if type(newObj[key]) is int:\n",
        "            newObj[key] = str(newObj[key])\n",
        "        if type(newObj[key]) is dict:\n",
        "            newObj[key] = stringifyNumbers(newObj[key])\n",
        "    return newObj\n",
        "\n",
        "\n",
        "\n",
        "obj = {\n",
        "  \"num\": 1,\n",
        "  \"test\": [],\n",
        "  \"data\": {\n",
        "    \"val\": 4,\n",
        "    \"info\": {\n",
        "      \"isRight\": True,\n",
        "      \"random\": 66\n",
        "    }\n",
        "  }\n",
        "}\n",
        "\n",
        "print(stringifyNumbers(obj))\n",
        "\n",
        "{'num': '1', \n",
        " 'test': [], \n",
        " 'data': {'val': '4', \n",
        "          'info': {'isRight': True, 'random': '66'}\n",
        "          }\n",
        "}\n",
        "print(\"-----------------------------------------------------------------------------------\")\n",
        "print('collectStrings Solution')\n",
        "\n",
        "def collectStrings(obj):\n",
        "    resultArr = []\n",
        "    for key in obj:\n",
        "        if type(obj[key]) is str:\n",
        "            resultArr.append(obj[key])\n",
        "        if type(obj[key]) is dict:\n",
        "            resultArr = resultArr + collectStrings(obj[key])\n",
        "    return resultArr\n",
        "\n",
        "\n",
        "\n",
        "obj = {\n",
        "  \"stuff\": 'foo',\n",
        "  \"data\": {\n",
        "    \"val\": {\n",
        "      \"thing\": {\n",
        "        \"info\": 'bar',\n",
        "        \"moreInfo\": {\n",
        "          \"evenMoreInfo\": {\n",
        "            \"weMadeIt\": 'baz'\n",
        "          }\n",
        "        }\n",
        "      }\n",
        "    }\n",
        "  }\n",
        "}\n",
        "\n",
        "print(collectStrings(obj)) # ['foo', 'bar', 'baz'])\n",
        "print(\"-----------------------------------------------------------------------------------\")"
      ],
      "metadata": {
        "id": "ohp1jRM6M0RX",
        "colab": {
          "base_uri": "https://localhost:8080/"
        },
        "outputId": "55fbf27a-6519-4010-ec19-bcc8b4cfc2ca"
      },
      "execution_count": null,
      "outputs": [
        {
          "output_type": "stream",
          "name": "stdout",
          "text": [
            "Power Solution\n",
            "1\n",
            "4\n",
            "16\n",
            "-----------------------------------------------------------------------------------\n",
            "Factorial Solution\n",
            "1\n",
            "2\n",
            "24\n",
            "5040\n",
            "-----------------------------------------------------------------------------------\n",
            "productOfArray Solution\n",
            "6\n",
            "60\n",
            "-----------------------------------------------------------------------------------\n",
            "recursiveRange Solution\n",
            "21\n",
            "-----------------------------------------------------------------------------------\n",
            "fib Solution\n",
            "3\n",
            "55\n",
            "317811\n",
            "9227465\n",
            "-----------------------------------------------------------------------------------\n",
            "reverse Solution\n",
            "nohtyp\n",
            "srellimppa\n",
            "-----------------------------------------------------------------------------------\n",
            "isPalindrome Solution\n",
            "False\n",
            "False\n",
            "True\n",
            "True\n",
            "False\n",
            "-----------------------------------------------------------------------------------\n",
            "someRecursive Solution\n",
            "True\n",
            "True\n",
            "False\n",
            "-----------------------------------------------------------------------------------\n",
            "flatten Solution\n",
            "[1, 2, 3, 4, 5]\n",
            "[1, 2, 3, 4, 5]\n",
            "[1, 2, 3]\n",
            "[1, 2, 3]\n",
            "-----------------------------------------------------------------------------------\n",
            "capitalizeFirst Solution\n",
            "['Car', 'Taco', 'Banana']\n",
            "-----------------------------------------------------------------------------------\n",
            "nestedEvenSum Solution\n",
            "6\n",
            "10\n",
            "-----------------------------------------------------------------------------------\n",
            "capitalizeWords Solution\n",
            "['I', 'AM', 'LEARNING', 'RECURSION']\n",
            "-----------------------------------------------------------------------------------\n",
            "stringifyNumbers Solution\n",
            "{'num': '1', 'test': [], 'data': {'val': '4', 'info': {'isRight': True, 'random': '66'}}}\n",
            "-----------------------------------------------------------------------------------\n",
            "collectStrings Solution\n",
            "['foo', 'bar', 'baz']\n",
            "-----------------------------------------------------------------------------------\n"
          ]
        }
      ]
    },
    {
      "cell_type": "markdown",
      "source": [
        "#2. Time complexities and big O notation\n",
        "Language or metric define the efiiciency of the algorithm.\n",
        "\n",
        "Run time Notations: Best case, average case and worst case\n",
        "\n",
        "Types of time complexity:\n",
        "\n",
        "1.   Big O - less than or equal to the worst case \n",
        "2.   Big Omega - at least more than the best case\n",
        "3.   Big Theta - Bouns within the best and worst cases\n",
        "\n",
        "Types of the complexity: \n",
        "\n",
        "\n",
        "*   Constant time - O(1) [Ex : searching particular element in an array (arr[0])]  \n",
        "*   Linear time - O(n) [Ex: traversing the whole array]\n",
        "*   Logarithmic time - O(log N) [Ex : merge sort, binary search, heap sort]\n",
        "*   Quadratic time - O(N^2) [Ex : Nested loop iterations]\n",
        "*   Exponential - O(2^n) time complexity grows with the addition to the input [Ex: Fibonacci series using recursion]  \n",
        "\n",
        "Orders:\n",
        "\n",
        "O(1) < O(logN) < O(N) < O(NlogN) < O(N^2) < O(2^n) < O(N!)\n",
        "\n",
        "\n",
        "\n"
      ],
      "metadata": {
        "id": "3MGYr7H5z8wr"
      }
    },
    {
      "cell_type": "code",
      "source": [
        "# print big number in the array\n",
        "\n",
        "# Iterative method\n",
        "def arr(array):                       \n",
        "  big = array[0]                      #--------------------------o(1)\n",
        "  for i in range(0, len(array)):      #--------------------------o(n)\n",
        "    if array[i] > big:                #--------------------------o(1)\n",
        "      big = array[i]                  #--------------------------o(1)\n",
        "  print(big)                          #--------------------------o(1)\n",
        "\n",
        "# Recursive Method:\n",
        "def arn(array, n):\n",
        "  if n==1:\n",
        "    return array[0]\n",
        "  return max(array[n-1], arn(array,n-1))\n",
        "\n",
        "a = [1,2,3,5,7,4]                     #--------------------------o(1)\n",
        "print(arr(a))                         #--------------------------o(1)\n",
        "print(arn(a,len(a)))\n",
        "\n"
      ],
      "metadata": {
        "colab": {
          "base_uri": "https://localhost:8080/"
        },
        "id": "RwFZ_h8_JbB8",
        "outputId": "798eb956-25ab-4e95-9acf-f5f0ca4a12ad"
      },
      "execution_count": null,
      "outputs": [
        {
          "output_type": "stream",
          "name": "stdout",
          "text": [
            "7\n",
            "None\n",
            "7\n"
          ]
        }
      ]
    },
    {
      "cell_type": "markdown",
      "source": [
        "**Interview Questions** "
      ],
      "metadata": {
        "id": "Nxfoah6t6Gi7"
      }
    },
    {
      "cell_type": "code",
      "source": [
        "#Question1                                                        #O(2n)\n",
        "def foo(array):\n",
        "    sum = 0                                                       #--------------------------o(1)\n",
        "    product = 1                                                   #--------------------------o(1)\n",
        "    for i in array:                                               #--------------------------o(n)\n",
        "        sum += i                                                        #--------------------------o(1)\n",
        "    for i in array:                                               #--------------------------o(n)\n",
        "        product *= i                                              #--------------------------o(1)\n",
        "    print(\"Sum = \"+str(sum)+\", Product = \"+str(product))          #--------------------------o(1)\n",
        "\n",
        "ar1 = [1,2,3,4]\n",
        "foo(ar1)\n",
        "\n",
        "#Question2                                           #O(n^2)\n",
        "\n",
        "def printPairs(array):\n",
        "    for i in array:                                 #--------------------------O(n^2)}--| ------------O(n^2+n)=O(n^2)                             \n",
        "        for j in array:                             #--------------------------o(n-1)}----|\n",
        "            print(str(i)+\",\"+str(j))                #--------------------------o(1)\n",
        "\n",
        "\n",
        "#Question3                                          #O(n^2)\n",
        "def printUnorderedPairs(array):                       \n",
        "    for i in range(0,len(array)):                   #--------------------------o(n^2)-----|--------------o(n^2+n) =O(n^2)\n",
        "        for j in range(i+1,len(array)):             #--------------------------o(n)-------|------------------------------------[solved using 1.Counting the iterations and 2.Average work]\n",
        "            print(array[i] + \",\" + array[j])        #--------------------------o(1)\n",
        "\n",
        "\n",
        "\n",
        "\n",
        "\n",
        "#Question4                                                        #O(26) = o(ab)\n",
        "def printUnorderedPairs(arrayA, arrayB):\n",
        "    for i in range(len(arrayA)):                                  #--------------------------o(5*4)----|------O(5*4 + 4)\n",
        "        for j in range(len(arrayB)):                              #--------------------------o(4)------|\n",
        "            if arrayA[i] < arrayB[j]:                             #--------------------------o(1)\n",
        "                print(str(arrayA[i]) + \",\" + str(arrayB[j]))      #--------------------------o(1)\n",
        "\n",
        "arrayA = [1,2,3,4,5]\n",
        "arrayB = [2,6,7,8]\n",
        "\n",
        "\n",
        "\n",
        "#Question5\n",
        "def printUnorderedPairs(arrayA, arrayB):                          #o(ab)\n",
        "    for i in range(len(arrayA)):                                  #--------------------------o(a)                                  \n",
        "        for j in range(len(arrayB)):                              #--------------------------o(b)\n",
        "            for k in range(0,100000):                             #--------------------------o(1)[As still the 100000 is the constant number]\n",
        "                print(str(arrayA[i]) + \",\" + str(arrayB[j]))      #--------------------------o(1)\n",
        "\n",
        "# printUnorderedPairss(arrayA,arrayB)\n",
        "\n",
        "\n",
        "#Question6\n",
        "def reverse(array):                                               #O(N)\n",
        "    for i in range(0,int(len(array)/2)):                          #--------------------------o(N/2)-->O(N)\n",
        "        other = len(array)-i-1                                    #--------------------------o(1)\n",
        "        temp = array[i]                                           #--------------------------o(1)\n",
        "        array[i] = array[other]                                   #--------------------------o(1)\n",
        "        array[other] = temp                                       #--------------------------o(1)\n",
        "    print(array)                                                  #--------------------------o(1)\n",
        "\n",
        "reverse(arrayA)\n",
        "\n",
        "#Question8                                  #O(N)\n",
        "\n",
        "def factorial(n):                                       #o(M)\n",
        "    if n < 0:                               #---------|\n",
        "        return -1                           #---------|\n",
        "    elif n == 0:                            #---------|--------------O(1)\n",
        "        return 1                            #---------|\n",
        "    else:                                   #---------|\n",
        "        return n * factorial(n-1)           #--------------------------o(O(M-1))\n",
        "\n",
        "print(factorial(3))\n",
        "                                                                                             # O(M) = O(1) +O(M-1)........\n",
        "                                                                                             # O(M) = O(1)*N + O(1)\n",
        "\n",
        "\n",
        "#Question9                                      # time complexity is equal to 2^1 + 2^2 + ........+ 2^n = 2^n+1 -2^1  =~ O(2^n)\n",
        "def allFib(n):                                  # \n",
        "    for i in range(n):                          #--------------------------o(n)\n",
        "        print(str(i)+\":, \" + str(fib(i)))\n",
        "\n",
        "def fib(n):                                     # multipe branch called recursively then tie complexity = Branch^Depth  #O(2^n)\n",
        "    if n <= 0:                                  # For this problem the time complexity is the changing because the change in the iteration of previous function\n",
        "        return 0                                # For f(1) - 2^1......f(n) - 2^n\n",
        "    elif n == 1:\n",
        "        return 1\n",
        "    return fib(n-1) + fib(n-2)\n",
        "\n",
        "\n",
        "allFib(4)\n",
        "\n",
        "#Question10                   #O(LogN)\n",
        "def powersOf2(n):                                           # The function calling itself with a half of it\n",
        "    # print(\"n:\"+str(n))                                    # As we learnt the time complexity is of logarithmic time\n",
        "    if n < 1:\n",
        "        return 0\n",
        "    elif n == 1:\n",
        "        print(1)\n",
        "        return 1\n",
        "    else:\n",
        "        prev = powersOf2(int(n/2))\n",
        "        # print(\"prev:\"+str(prev))\n",
        "        print(prev)\n",
        "        curr = prev*2\n",
        "        print(curr)\n",
        "        return curr\n",
        "\n",
        "powersOf2(50)"
      ],
      "metadata": {
        "id": "HdRRuHrj54PP"
      },
      "execution_count": null,
      "outputs": []
    },
    {
      "cell_type": "markdown",
      "source": [
        "#3. Arrays"
      ],
      "metadata": {
        "id": "_GV3abV3x9Vc"
      }
    },
    {
      "cell_type": "code",
      "source": [
        "# 1D array\n",
        "\n",
        "from array import *\n",
        "\n",
        "# 1. create an array and traverse\n",
        "print('create an array and traverse')\n",
        "arr1=array('i', [1,2,3,4,5])                     \n",
        "arr2 = array('d',[1.2,1.45,122.6,33])       \n",
        "print(arr2)\n",
        "print(arr1)\n",
        "print('-------------------------------------')\n",
        "\n",
        "\n",
        "# 2. Traverse\n",
        "print('traverse')\n",
        "def fun(array):                               \n",
        "  for i in range(len(array)):\n",
        "    print(array[i])\n",
        "\n",
        "fun(arr1)\n",
        "print('-------------------------------------')\n",
        "\n",
        "\n",
        "# 3. Accessing through index\n",
        "print('Accessing through index')\n",
        "print(arr2[2])\n",
        "print('-------------------------------------')\n",
        "\n",
        "\n",
        "# 4. Append through append method()\n",
        "print('Append through append method()')\n",
        "arr1.append(7)\n",
        "print(arr1)\n",
        "print('-------------------------------------')\n",
        "\n",
        "\n",
        "# 5. Inserting element in an array\n",
        "print('Inserting element in an array')\n",
        "arr1.insert(2,5)                              \n",
        "print(arr1)\n",
        "print('-------------------------------------')\n",
        "\n",
        "\n",
        "# 6. Extend using extend method() in array\n",
        "print('Extend using extend method() in array')\n",
        "arr3 = array('i', [11,23,45])\n",
        "arr1.extend(arr3)\n",
        "print(arr1)\n",
        "print('-------------------------------------')\n",
        "\n",
        "\n",
        "# 7. Add elements from python lists\n",
        "print('Add elements from python lists')\n",
        "templist = [88,9,19]\n",
        "arr2.fromlist(templist)\n",
        "print(arr2)\n",
        "print('-------------------------------------')\n",
        "\n",
        "\n",
        "# 8. Remove element using remove() method\n",
        "print('Remove element using remove() method')\n",
        "arr2.remove(9)\n",
        "print(arr2)\n",
        "print('-------------------------------------')\n",
        "\n",
        "\n",
        "# 9. Remove last array element using pop() method \n",
        "print('Remove last array element using pop() method')\n",
        "arr1.pop()\n",
        "print(arr1)\n",
        "print('-------------------------------------')\n",
        "\n",
        "\n",
        "# 10. \n",
        "print('Accessing through index')\n",
        "print('-------------------------------------')\n",
        "\n",
        "\n",
        "print('Accessing through index')\n",
        "print('-------------------------------------')\n",
        "\n",
        "\n",
        "def funs(array, index):                       #accessing array element\n",
        "  if index>=len(array):\n",
        "     return \"Enter valid index number\"\n",
        "  else:\n",
        "    return array[index]\n",
        "def find(array, value):                       #searching the array\n",
        "  for i in range(len(array)):\n",
        "    if i == value:\n",
        "      return array[i]\n",
        "  return \"The element not found.\"\n",
        "\n",
        "def dele(array, n):                            #Delete element in an array\n",
        "  for i in range(len(array)):\n",
        "    if i== n:\n",
        "      array.remove(array[i])\n",
        "  print(array)\n",
        "  array.pop() # pop()\n",
        "  print(array)\n",
        "  del array[5] # del method \n",
        "  print(array)\n",
        "\n",
        "\n",
        "\n",
        "funs(arr2,4)\n",
        "find(arr1,5)\n",
        "dele(arr1,7)"
      ],
      "metadata": {
        "colab": {
          "base_uri": "https://localhost:8080/"
        },
        "id": "pqGFK0ERdD_p",
        "outputId": "ec5a27b2-2311-4554-8e8f-57d1248e10f1"
      },
      "execution_count": 68,
      "outputs": [
        {
          "output_type": "stream",
          "name": "stdout",
          "text": [
            "create an array and traverse\n",
            "array('d', [1.2, 1.45, 122.6, 33.0])\n",
            "array('i', [1, 2, 3, 4, 5])\n",
            "-------------------------------------\n",
            "traverse\n",
            "1\n",
            "2\n",
            "3\n",
            "4\n",
            "5\n",
            "-------------------------------------\n",
            "Accessing through index\n",
            "122.6\n",
            "-------------------------------------\n",
            "Append through append method()\n",
            "array('i', [1, 2, 3, 4, 5, 7])\n",
            "-------------------------------------\n",
            "Inserting element in an array\n",
            "array('i', [1, 2, 5, 3, 4, 5, 7])\n",
            "-------------------------------------\n",
            "Extend using extend method() in array\n",
            "array('i', [1, 2, 5, 3, 4, 5, 7, 11, 23, 45])\n",
            "-------------------------------------\n",
            "Add elements from python lists\n",
            "array('d', [1.2, 1.45, 122.6, 33.0, 88.0, 9.0, 19.0])\n",
            "-------------------------------------\n",
            "Remove element using remove() method\n",
            "array('d', [1.2, 1.45, 122.6, 33.0, 88.0, 19.0])\n",
            "-------------------------------------\n",
            "Remove last array element using pop() method\n",
            "array('i', [1, 2, 5, 3, 4, 5, 7, 11, 23])\n",
            "-------------------------------------\n",
            "Accessing through index\n",
            "-------------------------------------\n",
            "Accessing through index\n",
            "-------------------------------------\n",
            "array('i', [1, 2, 5, 3, 4, 5, 7, 23])\n",
            "array('i', [1, 2, 5, 3, 4, 5, 7])\n",
            "array('i', [1, 2, 5, 3, 4, 7])\n"
          ]
        }
      ]
    },
    {
      "cell_type": "code",
      "source": [
        "from numpy.lib.shape_base import column_stack\n",
        "## 2D ARRAY\n",
        "\n",
        "# 1. Create a 2D array\n",
        "print('creating a 2D array')\n",
        "print('--------------------------------')\n",
        "\n",
        "import numpy as np\n",
        "\n",
        "the2Darray = np.array([[11,23,34,45], [90,89,78,67], [55,11,99,82], [40,92,74,100]])\n",
        "print(the2Darray)\n",
        "print('--------------------------------')\n",
        "\n",
        "# 2. Add new row or Column\n",
        "print('Adding new row or column')\n",
        "print('Row Added')\n",
        "rowaddarray = np.insert(the2Darray,2,[[54,32,21,87]], axis =0)\n",
        "Arr_add = np.insert(the2Darray,1, [[12,23,34,45]],axis = 0)\n",
        "print(rowaddarray)\n",
        "print(Arr_add)\n",
        "\n",
        "print('Column Added')\n",
        "Columnarray = np.insert(rowaddarray,0,[[71,92,13,65,96]],axis=1)\n",
        "print(Columnarray)\n",
        "\n",
        "\n",
        "print('using append method()')\n",
        "Columnsarray = np.append(the2Darray,[[1,0,8,6]],axis =0)\n",
        "print(Columnsarray)\n",
        "print('-------------------------------')\n",
        "\n",
        "print('Accessing elements in a 2D array')\n",
        "def AccessEle(array, Rindex, Cindex):\n",
        "  if Rindex >= len(array) or Cindex>= len(array[0]):         #-----------O(1)\n",
        "    return 'Invaid inputs'                                   #-----------O(1)\n",
        "  return array[Rindex][Cindex]                               #-----------O(1)\n",
        "\n",
        "print(AccessEle(the2Darray, 2,1))\n",
        "\n",
        "print('-------------------------------')\n",
        "\n",
        "print('Travesal of 2D array')\n",
        "def traverse(array):\n",
        "  for i in range(len(array)):\n",
        "    for j in range(len(array[0])):\n",
        "      print(array[i][j])\n",
        "\n",
        "traverse(the2Darray)\n",
        "print('-------------------------------')\n",
        "\n",
        "\n",
        "print('Searching An element in 2D array')\n",
        "def searchEle(array, n):\n",
        "  for i in range(len(array)):\n",
        "    for j in range(len(array[0])):\n",
        "      if array[i][j] == n:\n",
        "        return 'The value is found at ' + str(i) + \" \"+str(j)\n",
        "  return 'The elemnent does not exist in the array'\n",
        "\n",
        "print(searchEle(the2Darray,55))\n",
        "\n",
        "print('-------------------------------')\n",
        "\n",
        "\n",
        "print('Deletion of the element from the array(either row deletion or column deletion)')\n",
        "# Row deletion\n",
        "NewAFDel = np.delete(the2Darray, 0, axis =0)\n",
        "print(NewAFDel)\n",
        "\n",
        "# Column deletion\n",
        "NewAl = np.delete(the2Darray, 0, axis =1)\n",
        "print(NewAl)\n",
        "print('-------------------------------')\n",
        "\n",
        "\n",
        "\n",
        "\n",
        "\n"
      ],
      "metadata": {
        "colab": {
          "base_uri": "https://localhost:8080/"
        },
        "id": "OTKRp5uuA3jA",
        "outputId": "923296a8-8350-4cf0-9f59-891f3e5e0641"
      },
      "execution_count": null,
      "outputs": [
        {
          "output_type": "stream",
          "name": "stdout",
          "text": [
            "creating a 2D array\n",
            "--------------------------------\n",
            "[[ 11  23  34  45]\n",
            " [ 90  89  78  67]\n",
            " [ 55  11  99  82]\n",
            " [ 40  92  74 100]]\n",
            "--------------------------------\n",
            "Adding new row or column\n",
            "Row Added\n",
            "[[ 11  23  34  45]\n",
            " [ 90  89  78  67]\n",
            " [ 54  32  21  87]\n",
            " [ 55  11  99  82]\n",
            " [ 40  92  74 100]]\n",
            "[[ 11  23  34  45]\n",
            " [ 12  23  34  45]\n",
            " [ 90  89  78  67]\n",
            " [ 55  11  99  82]\n",
            " [ 40  92  74 100]]\n",
            "Column Added\n",
            "[[ 71  11  23  34  45]\n",
            " [ 92  90  89  78  67]\n",
            " [ 13  54  32  21  87]\n",
            " [ 65  55  11  99  82]\n",
            " [ 96  40  92  74 100]]\n",
            "using append method()\n",
            "[[ 11  23  34  45]\n",
            " [ 90  89  78  67]\n",
            " [ 55  11  99  82]\n",
            " [ 40  92  74 100]\n",
            " [  1   0   8   6]]\n",
            "-------------------------------\n",
            "Accessing elements in a 2D array\n",
            "11\n",
            "-------------------------------\n",
            "Travesal of 2D array\n",
            "11\n",
            "23\n",
            "34\n",
            "45\n",
            "90\n",
            "89\n",
            "78\n",
            "67\n",
            "55\n",
            "11\n",
            "99\n",
            "82\n",
            "40\n",
            "92\n",
            "74\n",
            "100\n",
            "-------------------------------\n",
            "Searching An element in 2D array\n",
            "The value is found at 2 0\n",
            "-------------------------------\n",
            "Deletion of the element from the array(either row deletion or column deletion)\n",
            "[[ 90  89  78  67]\n",
            " [ 55  11  99  82]\n",
            " [ 40  92  74 100]]\n",
            "[[ 23  34  45]\n",
            " [ 89  78  67]\n",
            " [ 11  99  82]\n",
            " [ 92  74 100]]\n",
            "-------------------------------\n"
          ]
        }
      ]
    },
    {
      "cell_type": "markdown",
      "source": [
        "* Time and space complexities of 2D array."
      ],
      "metadata": {
        "id": "SSHsGBQMkGZn"
      }
    },
    {
      "cell_type": "markdown",
      "source": [
        "Operation| Time Comolexity | Space Complexity\n",
        "--|:--|:--|\n",
        "Creating an empty array|O(1)|O(mn)\n",
        "Inserting a column/ row in an array| O(mn)/O(1)| O(1)\n",
        "Traversing a given array| O(mn)|O(1)\n",
        "Accessing a given array| O(1)|O(1)\n",
        "Searching a given value| O(mn)| O(1)\n",
        "Deleting a given value| O(mn)/O(1)| O(1)"
      ],
      "metadata": {
        "id": "h8qhlz0UhQFM"
      }
    },
    {
      "cell_type": "markdown",
      "source": [
        "# Python Lists\n",
        "The list is one among the built-in data types and in python(i.e others are tuples, sets and dictioneries). \n",
        "The list is used to store elements in order. The main difference between list and array is they can store different datatypes in a single list but the array cannot."
      ],
      "metadata": {
        "id": "TBt0TkMVXYCR"
      }
    },
    {
      "cell_type": "code",
      "source": [
        "# examples of list\n",
        "\n",
        "integers = [1,2,3,4]                        #list with intergers\n",
        "print(integers)\n",
        "stringlist = ['Tarun', 'is', 'going','for','Texas']                 # list of strings\n",
        "print(stringlist)\n",
        "mixedlist = [1,3.7, 'heelo']                 # list of mixed datatypes\n",
        "print(mixedlist)\n",
        "nestedlist = [1,.44,55,['losst']]            # list inside a list\n",
        "print(nestedlist)\n",
        "empty= []                                    # an empty list\n",
        "print(empty)\n",
        "\n",
        "\n",
        "###Operations in the lists\n",
        "print('Operations in the lists')\n",
        "print('-------------------------')\n",
        "# Accessing the list\n",
        "print('Accessing the list')\n",
        "examplelist = ['Tarun', 'is', 'going','for','Texas']\n",
        "print(examplelist[4])\n",
        "\n",
        "#other means for checking or accessing the elements in list is\n",
        "#using in operator\n",
        "print('using in operator')\n",
        "examplelist = ['Tarun', 'is', 'going','for','Texas']\n",
        "print('for' in examplelist)\n",
        "#usnig negative index values\n",
        "print('usnig negative index values')\n",
        "print(examplelist[-3])\n",
        "print('--------------------')\n",
        "#traverse through the list\n",
        "print('Traverse the list')\n",
        "for i in examplelist:\n",
        "  print(i)\n",
        "\n",
        "# travrsing and adding the list\n",
        "lists = [1,1,3,4]\n",
        "for i in range(len(lists)):\n",
        "  if i>0:\n",
        "    lists[i] += lists[i-1]\n",
        "    print(lists)\n",
        "# Statements passed in empty list cannot print as the empty list cannot be traversed\n",
        "empty =[]\n",
        "for i in empty:\n",
        "  print('List is empty list')"
      ],
      "metadata": {
        "colab": {
          "base_uri": "https://localhost:8080/"
        },
        "id": "HOQogB-PYQsR",
        "outputId": "0f413652-021c-468d-f013-c2e372eb3a19"
      },
      "execution_count": null,
      "outputs": [
        {
          "output_type": "stream",
          "name": "stdout",
          "text": [
            "[1, 2, 3, 4]\n",
            "['Tarun', 'is', 'going', 'for', 'Texas']\n",
            "[1, 3.7, 'heelo']\n",
            "[1, 0.44, 55, ['losst']]\n",
            "[]\n",
            "Operations in the lists\n",
            "-------------------------\n",
            "Accessing the list\n",
            "Texas\n",
            "using in operator\n",
            "True\n",
            "usnig negative index values\n",
            "going\n",
            "--------------------\n",
            "Traverse the list\n",
            "Tarun\n",
            "is\n",
            "going\n",
            "for\n",
            "Texas\n",
            "[1, 2, 3, 4]\n",
            "[1, 2, 5, 4]\n",
            "[1, 2, 5, 9]\n"
          ]
        }
      ]
    },
    {
      "cell_type": "markdown",
      "source": [
        "The list is a mutable datastructure. so we can update with assignment operators or insert new elements into the list."
      ],
      "metadata": {
        "id": "cHJ23LoBgak9"
      }
    },
    {
      "cell_type": "markdown",
      "source": [
        "The insertion acn be done in 4 ways.\n",
        "\n",
        "\n",
        "1.  Insert at the begining of list\n",
        "2.  Insert in the middle of the list\n",
        "3.  Insert at the end of the list\n",
        "4.  Insert the list to another list\n",
        "\n",
        "Can be done using the list methods and they are:\n",
        "\n",
        "\n",
        "*   Insert(Index to insert, value to insert)\n",
        "*   Append(value to insert at the end)\n",
        "*   Extend(list to add)\n",
        "\n",
        "\n",
        "\n"
      ],
      "metadata": {
        "id": "zp1gwVMthaCl"
      }
    },
    {
      "cell_type": "code",
      "source": [
        "#Update or Insert the list\n",
        "Listitems = [1,2,3,4,4,5,6]\n",
        "Listitems[3] = 12\n",
        "Listitems[5] = 99 \n",
        "print(Listitems)\n",
        "\n",
        "# using the insert()   -------------O(n) space-O(1)\n",
        "Listitems.insert(4,88)\n",
        "print(Listitems)\n",
        "\n",
        "# unig the append() ----------------O(1)\n",
        "Listitems.append(0)\n",
        "print(Listitems)\n",
        "\n",
        "# using the extend()---------------depends on the no. of elemenst in the previous list O(n) and space-O(n)\n",
        "List = [122,455,667,\"Lokesh kanakaraj\"]\n",
        "List.extend(Listitems)\n",
        "print(List)\n",
        "\n"
      ],
      "metadata": {
        "colab": {
          "base_uri": "https://localhost:8080/"
        },
        "id": "sV_wvQhJgrE1",
        "outputId": "a5ea5a15-f953-4332-9e89-652944b5834a"
      },
      "execution_count": null,
      "outputs": [
        {
          "output_type": "stream",
          "name": "stdout",
          "text": [
            "[1, 2, 3, 12, 4, 99, 6]\n",
            "[1, 2, 3, 12, 88, 4, 99, 6]\n",
            "[1, 2, 3, 12, 88, 4, 99, 6, 0]\n",
            "[122, 455, 667, 'Lokesh kanakaraj', 1, 2, 3, 12, 88, 4, 99, 6, 0]\n"
          ]
        }
      ]
    },
    {
      "cell_type": "markdown",
      "source": [
        "* Deletion and slicing in Lists"
      ],
      "metadata": {
        "id": "2Lt4E_fRshmA"
      }
    },
    {
      "cell_type": "markdown",
      "source": [
        "* List acn be deleted using:\n",
        "\n",
        "\n",
        "1.   pop() - unless you pass the index the last element is popped from the list and if you pass the element then that indexed element is popped. It is used to know the deleted element. Return popped element.\n",
        "\n",
        "2.   delete() - use keyword 'del'. Does ot return the deleted element. Uses the index.\n",
        "3.   remove() - is useful when you know the element itself. Do not need of the index. Provide the value amd delete it \n",
        "\n"
      ],
      "metadata": {
        "id": "oItq_a4-yxf-"
      }
    },
    {
      "cell_type": "code",
      "source": [
        "List = ['a','b','c','d','e','f']\n",
        "my = list((3,'avdh',3.78))\n",
        "print(List)\n",
        "print(my)\n",
        "print(List[1:8:2])\n",
        "List[0:1] = 'q','r'\n",
        "print(List)\n",
        "\n",
        "#using the pop()---------------O(1/n)\n",
        "List.pop()#unless you pass the index the last element is popped from the list and if you pass the element then that indexed element is popped\n",
        "print(List)\n",
        "\n",
        "del List[3]\n",
        "print(List)\n",
        "\n",
        "#usimg the slice alomg with the del operation---------------O(n)\n",
        "\n",
        "del List[1:3]\n",
        "print(List)\n",
        "\n",
        "\n",
        "# usimg the remove()---------------O(n)\n",
        "List.remove('q')\n",
        "print(List)\n",
        "\n",
        "# space comp;exity for all the elements is O(1)"
      ],
      "metadata": {
        "colab": {
          "base_uri": "https://localhost:8080/"
        },
        "id": "_-bADQnqsl0-",
        "outputId": "044caf81-a99e-4996-e8cf-a3b7c0cace17"
      },
      "execution_count": 16,
      "outputs": [
        {
          "output_type": "stream",
          "name": "stdout",
          "text": [
            "['a', 'b', 'c', 'd', 'e', 'f']\n",
            "[3, 'avdh', 3.78]\n",
            "['b', 'd', 'f']\n",
            "['q', 'r', 'b', 'c', 'd', 'e', 'f']\n",
            "['q', 'r', 'b', 'c', 'd', 'e']\n",
            "['q', 'r', 'b', 'd', 'e']\n",
            "['q', 'd', 'e']\n",
            "['d', 'e']\n"
          ]
        }
      ]
    },
    {
      "cell_type": "markdown",
      "source": [
        "Searching element in list:\n",
        "\n",
        "\n",
        "\n",
        "1.   IN operator\n",
        "2.   Linear search\n",
        "\n"
      ],
      "metadata": {
        "id": "num0nVHb2LjY"
      }
    },
    {
      "cell_type": "code",
      "source": [
        "Thelist = [1,2,3,4,5,6,7,8,9]\n",
        "\n",
        "#IN-operator\n",
        "if 10 in Thelist:\n",
        "  print(Thelist.index(7))#------------O(n) check elements one by one\n",
        "else:\n",
        "  print('The value not in the list')\n",
        "\n",
        "\n",
        "# Linear Search       ---------------O(n)\n",
        "def search(list, value):\n",
        "  for i in list:\n",
        "    if list[i] == value:\n",
        "      return list.index(value)\n",
        "  return 'The element not found!'\n",
        "\n",
        "print(search(Thelist,6))\n",
        "\n"
      ],
      "metadata": {
        "colab": {
          "base_uri": "https://localhost:8080/"
        },
        "id": "2KPHIVQp2Z8h",
        "outputId": "3e4e4e51-654e-4d77-bc98-5235367f1770"
      },
      "execution_count": 26,
      "outputs": [
        {
          "output_type": "stream",
          "name": "stdout",
          "text": [
            "The value not in the list\n",
            "5\n"
          ]
        }
      ]
    },
    {
      "cell_type": "markdown",
      "source": [
        "#*OBJECT ORIENTED PROGRAMMING IN PYTHON*"
      ],
      "metadata": {
        "id": "1yAcOfPjFtuJ"
      }
    },
    {
      "cell_type": "markdown",
      "source": [
        "1. Instances and classes \n",
        "Class is the collection of objects. Prototype by which the obect is created, contains attributes and methods. \n",
        "\n",
        "* Attributes and Methods\n",
        " Attributes are variables that belongs to class\n",
        " \n",
        " Method: A function that associated with the class.\n",
        " \n",
        " objects are instances of the classes and class is a blueprint for creating instances. Instance variables contains data, that is unique to each instance.\n",
        "    *  State: represented by attributes and reflect prperties.\n",
        "    *  Behaviour: Represented by methods, reflect response of object on other objects.\n",
        "    *  Identity: Gives an unique name and enables to interact."
      ],
      "metadata": {
        "id": "YaSQ3YJFGGGZ"
      }
    },
    {
      "cell_type": "code",
      "source": [
        "class Employee:\n",
        "  pass\n",
        "\n",
        "\n",
        "emp_2 = Employee()\n",
        "\n",
        "\n",
        "print(emp_2)"
      ],
      "metadata": {
        "colab": {
          "base_uri": "https://localhost:8080/"
        },
        "id": "aV188lLXGFTd",
        "outputId": "5cfef593-b638-45b2-bc97-6c5807b44a7e"
      },
      "execution_count": 29,
      "outputs": [
        {
          "output_type": "stream",
          "name": "stdout",
          "text": [
            "<__main__.Employee object at 0x7f3a082a6370>\n"
          ]
        }
      ]
    },
    {
      "cell_type": "markdown",
      "source": [
        "#Other MISC"
      ],
      "metadata": {
        "id": "NFj-qYv5zI6c"
      }
    },
    {
      "cell_type": "code",
      "source": [
        "from array import *\n",
        "arr1 = [1,2,3]\n",
        "arr2 = array('i', [9,8,7,6])\n",
        "print(arr1)\n",
        "arr1.pop()\n",
        "arr1.insert(2,4)\n",
        "print(arr1)\n",
        "arr1.append(4)\n",
        "print(arr1)\n",
        "arr2.extend(arr1)\n",
        "arr1.remove(2)\n",
        "del arr1[0]\n",
        "print(arr1)\n",
        "print(arr2)\n",
        "\n",
        "import numpy as np\n",
        "array1 = np.array([[1,2,3,4],\n",
        "                [2,3,4,5],[3,4,5,6]])\n",
        "\n",
        "column = np.insert(array1,0,[1,2,3,6],axis =0)\n",
        "print(array1)\n",
        "print(column)\n",
        "row = np.delete(array1,2,axis =1)\n",
        "print(row)"
      ],
      "metadata": {
        "colab": {
          "base_uri": "https://localhost:8080/"
        },
        "id": "u6TjS4FNx-7e",
        "outputId": "183378d0-197f-4ef1-c98f-b79b59499f30"
      },
      "execution_count": 75,
      "outputs": [
        {
          "output_type": "stream",
          "name": "stdout",
          "text": [
            "[1, 2, 3]\n",
            "[1, 2, 4]\n",
            "[1, 2, 4, 4]\n",
            "[4, 4]\n",
            "array('i', [9, 8, 7, 6, 1, 2, 4, 4])\n",
            "[[1 2 3 4]\n",
            " [2 3 4 5]\n",
            " [3 4 5 6]]\n",
            "[[1 2 3 6]\n",
            " [1 2 3 4]\n",
            " [2 3 4 5]\n",
            " [3 4 5 6]]\n",
            "[[1 2 4]\n",
            " [2 3 5]\n",
            " [3 4 6]]\n"
          ]
        }
      ]
    },
    {
      "cell_type": "code",
      "source": [
        "def fun(string):\n",
        "  count =0\n",
        "  list={}\n",
        "  for i in range(0,len(string)):\n",
        "    for j in range(i+1,len(string)):\n",
        "        if string[i] ==string[j]:\n",
        "              count+=1\n",
        "              list[i]=string[i]\n",
        "      \n",
        "  return list\n",
        "\n",
        "fun('bharath')\n",
        "\n",
        "\n",
        "\n",
        "\n",
        "\n",
        "\n",
        "\n",
        "\n",
        "\n",
        "\n",
        "\n",
        "\n",
        "\n",
        "\n",
        "\n",
        "\n",
        "\n",
        "\n",
        "\n",
        "\n",
        "\n",
        "\n",
        "\n",
        "\n",
        "\n",
        "\n"
      ],
      "metadata": {
        "colab": {
          "base_uri": "https://localhost:8080/"
        },
        "id": "lYiSaIHQ-RKG",
        "outputId": "60910f76-efe3-485c-b0df-1f9d37d96664"
      },
      "execution_count": null,
      "outputs": [
        {
          "output_type": "execute_result",
          "data": {
            "text/plain": [
              "{1: 'h', 2: 'a'}"
            ]
          },
          "metadata": {},
          "execution_count": 45
        }
      ]
    },
    {
      "cell_type": "code",
      "source": [],
      "metadata": {
        "id": "BjupUHoigKV6"
      },
      "execution_count": null,
      "outputs": []
    }
  ]
}