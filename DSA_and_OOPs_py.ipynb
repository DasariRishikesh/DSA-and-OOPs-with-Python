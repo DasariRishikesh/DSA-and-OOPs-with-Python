{
  "nbformat": 4,
  "nbformat_minor": 0,
  "metadata": {
    "colab": {
      "provenance": [],
      "collapsed_sections": [],
      "authorship_tag": "ABX9TyPA0XnXs7hmt4ljIU3O+uC4",
      "include_colab_link": true
    },
    "kernelspec": {
      "name": "python3",
      "display_name": "Python 3"
    },
    "language_info": {
      "name": "python"
    }
  },
  "cells": [
    {
      "cell_type": "markdown",
      "metadata": {
        "id": "view-in-github",
        "colab_type": "text"
      },
      "source": [
        "<a href=\"https://colab.research.google.com/github/DasariRishikesh/DSA-and-OOPs-with-Python/blob/main/DSA_and_OOPs_py.ipynb\" target=\"_parent\"><img src=\"https://colab.research.google.com/assets/colab-badge.svg\" alt=\"Open In Colab\"/></a>"
      ]
    },
    {
      "cell_type": "markdown",
      "source": [
        "##DATA STRUCTURES AND ALGORITHMS USING PYTHON PROGRAMMING LANGUAGE "
      ],
      "metadata": {
        "id": "ZKB3KQuCweM_"
      }
    },
    {
      "cell_type": "markdown",
      "source": [
        "#1.Recursion problems\n",
        "Step-1 : Recursive case - the flow\n",
        "\n",
        "Step-2 : Base Case - the stopping criterion\n",
        "\n",
        "Step-3 : The unconditional case - the constraint"
      ],
      "metadata": {
        "id": "AWy6h1mEpL84"
      }
    },
    {
      "cell_type": "markdown",
      "source": [
        "a. How to find a sum of digits of a positive integer number using recursion"
      ],
      "metadata": {
        "id": "Szi77gKWprI_"
      }
    },
    {
      "cell_type": "markdown",
      "source": [
        "sol : f(n) =  n%10 + f(n/10)"
      ],
      "metadata": {
        "id": "xlCn7raBstr8"
      }
    },
    {
      "cell_type": "code",
      "execution_count": null,
      "metadata": {
        "colab": {
          "base_uri": "https://localhost:8080/"
        },
        "id": "KDMhqTi2pEiw",
        "outputId": "bc941dd3-fadf-4010-ab4e-f56a360c3826"
      },
      "outputs": [
        {
          "output_type": "execute_result",
          "data": {
            "text/plain": [
              "19"
            ]
          },
          "metadata": {},
          "execution_count": 10
        }
      ],
      "source": [
        "def sumofdig(n):\n",
        "  assert n>=0 and int(n) == n,'The number must be positive integer'\n",
        "  if n==0:          #the base condition\n",
        "    return 0\n",
        "  else: \n",
        "    return int(n%10) + sumofdig(int(n/10))      #the recursive case\n",
        "\n",
        "sumofdig(4920202)"
      ]
    },
    {
      "cell_type": "markdown",
      "source": [
        "b. How to calculate power of number using recursion?"
      ],
      "metadata": {
        "id": "7abULvgMpKBM"
      }
    },
    {
      "cell_type": "markdown",
      "source": [
        "sol: f(X^n) = x * f(x^n-1)\n",
        "if n<0 then f(X^n) = x * f(x^n+1)"
      ],
      "metadata": {
        "id": "NzHZz0UiwrxW"
      }
    },
    {
      "cell_type": "code",
      "source": [
        "def powerofnum(base, pow):\n",
        "  assert int(pow) == pow, 'The power(exponent) should be posive and integer'\n",
        "  if pow==0:\n",
        "    return 1\n",
        "  elif pow<0:\n",
        "    return 1/base * powerofnum(base, pow+1)\n",
        "  else:\n",
        "    return base*powerofnum(base, pow-1)\n",
        "\n",
        "powerofnum(3,-2)\n"
      ],
      "metadata": {
        "colab": {
          "base_uri": "https://localhost:8080/"
        },
        "id": "rM3s86Sixm7K",
        "outputId": "bfe5b750-d6b2-4daf-ac86-69a5521e57fc"
      },
      "execution_count": null,
      "outputs": [
        {
          "output_type": "execute_result",
          "data": {
            "text/plain": [
              "0.1111111111111111"
            ]
          },
          "metadata": {},
          "execution_count": 29
        }
      ]
    },
    {
      "cell_type": "markdown",
      "source": [
        "c. Find the greatest common divisor(GCD) of two numbers using recursion."
      ],
      "metadata": {
        "id": "WzJTE07DzPIy"
      }
    },
    {
      "cell_type": "markdown",
      "source": [
        "sol: euclidean algorithm\n",
        "    gcd(a,b) = a/b => qoefficient= x and remainder = y\n",
        "    then again b/y until y==0\n",
        "    Therefore, gcd(a,b) return gcd(b, a mod b)"
      ],
      "metadata": {
        "id": "TNXNSjMF2td-"
      }
    },
    {
      "cell_type": "code",
      "source": [
        "def gcd(a,b):\n",
        "  assert int(a) == a and int(b)==b, 'The number must be posive integers'\n",
        "  if a<0:\n",
        "    a=-a\n",
        "  if b<0:\n",
        "    b=-b\n",
        "  if b==0:\n",
        "    return a\n",
        "  else:\n",
        "    return gcd(b, a%b)\n",
        "\n",
        "gcd(-12,-8)\n"
      ],
      "metadata": {
        "colab": {
          "base_uri": "https://localhost:8080/"
        },
        "id": "CYg438po4Tp9",
        "outputId": "db994b41-32cf-47ac-e908-4d07fbd24edf"
      },
      "execution_count": null,
      "outputs": [
        {
          "output_type": "execute_result",
          "data": {
            "text/plain": [
              "4"
            ]
          },
          "metadata": {},
          "execution_count": 35
        }
      ]
    },
    {
      "cell_type": "markdown",
      "source": [
        "d. How to convert a number from decimal to binary using recursion?"
      ],
      "metadata": {
        "id": "mWo7To8F4ULb"
      }
    },
    {
      "cell_type": "markdown",
      "source": [
        "sol: f(n) = n mod 2 + 10 * f(n/2)"
      ],
      "metadata": {
        "id": "x6s5uzG57tHe"
      }
    },
    {
      "cell_type": "code",
      "source": [
        "def dectobin(n):\n",
        "  assert int(n) == n, 'the number must be integer'\n",
        "  if n/2 == 0:\n",
        "    return 0\n",
        "  else:\n",
        "    return n%2 + 10 * dectobin(int(n/2))\n",
        "\n",
        "dectobin(101)"
      ],
      "metadata": {
        "colab": {
          "base_uri": "https://localhost:8080/"
        },
        "id": "OypmKzC57ptz",
        "outputId": "58ddc7e9-836b-4db9-f326-de9f88557ec8"
      },
      "execution_count": null,
      "outputs": [
        {
          "output_type": "execute_result",
          "data": {
            "text/plain": [
              "1100101"
            ]
          },
          "metadata": {},
          "execution_count": 53
        }
      ]
    },
    {
      "cell_type": "markdown",
      "source": [
        "**Additional problems**"
      ],
      "metadata": {
        "id": "VC8sHvtZ7qTp"
      }
    },
    {
      "cell_type": "code",
      "source": [
        "print('Power Solution')\n",
        "\n",
        "\n",
        "def power(base, exponent):\n",
        "    if exponent == 0:\n",
        "        return 1\n",
        "    return base * power(base, exponent-1)\n",
        "\n",
        "print(power(2,0)) # 1\n",
        "print(power(2,2)) # 4\n",
        "print(power(2,4)) # 16\n",
        "\n",
        "print(\"-----------------------------------------------------------------------------------\")\n",
        "print('Factorial Solution')\n",
        "\n",
        "def factorial(num):\n",
        "    if num <= 1:\n",
        "        return 1\n",
        "    return num * factorial(num-1)\n",
        "\n",
        "\n",
        "print(factorial(1)) # 1\n",
        "print(factorial(2)) # 2\n",
        "print(factorial(4)) # 24\n",
        "print(factorial(7)) # 5040\n",
        "print(\"-----------------------------------------------------------------------------------\")\n",
        "print('productOfArray Solution')\n",
        "\n",
        "def productOfArray(arr):\n",
        "    if len(arr) == 0:\n",
        "        return 1\n",
        "    return arr[0] * productOfArray(arr[1:])\n",
        "\n",
        "print(productOfArray([1,2,3])) #6\n",
        "print(productOfArray([1,2,3,10])) #60\n",
        "print(\"-----------------------------------------------------------------------------------\")\n",
        "print('recursiveRange Solution')\n",
        "\n",
        "def recursiveRange(num):\n",
        "    if num <= 0:\n",
        "        return 0\n",
        "    return num + recursiveRange(num - 1)\n",
        "\n",
        "\n",
        "print(recursiveRange(6))\n",
        "print(\"-----------------------------------------------------------------------------------\")\n",
        "print('fib Solution')\n",
        "\n",
        "def fib(num):\n",
        "    if (num < 2):\n",
        "        return num\n",
        "    return fib(num - 1) + fib(num - 2)\n",
        "\n",
        "\n",
        "\n",
        "print(fib(4)) # 3\n",
        "print(fib(10)) # 55\n",
        "print(fib(28)) # 317811\n",
        "print(fib(35)) # 9227465\n",
        "print(\"-----------------------------------------------------------------------------------\")\n",
        "print('reverse Solution')\n",
        "\n",
        "\n",
        "def reverse(strng):\n",
        "    if len(strng) <= 1:\n",
        "      return strng\n",
        "    return strng[len(strng)-1] + reverse(strng[0:len(strng)-1])\n",
        "\n",
        "\n",
        "print(reverse('python')) # 'nohtyp'\n",
        "print(reverse('appmillers')) # 'srellimppa'\n",
        "print(\"-----------------------------------------------------------------------------------\")\n",
        "print('isPalindrome Solution')\n",
        "\n",
        "\n",
        "def isPalindrome(strng):\n",
        "    if len(strng) == 0:\n",
        "        return True\n",
        "    if strng[0] != strng[len(strng)-1]:\n",
        "        return False\n",
        "    return isPalindrome(strng[1:-1])\n",
        "\n",
        "print(isPalindrome('awesome')) # false\n",
        "print(isPalindrome('foobar')) # false\n",
        "print(isPalindrome('tacocat')) # true\n",
        "print(isPalindrome('amanaplanacanalpanama')) # true\n",
        "print(isPalindrome('amanaplanacanalpandemonium')) # false\n",
        "print(\"-----------------------------------------------------------------------------------\")\n",
        "print('someRecursive Solution')\n",
        "\n",
        "def someRecursive(arr, cb):\n",
        "    if len(arr) == 0:\n",
        "        return False\n",
        "    if not(cb(arr[0])):\n",
        "        return someRecursive(arr[1:], cb)\n",
        "    return True\n",
        "\n",
        "def isOdd(num):\n",
        "    if num%2==0:\n",
        "        return False\n",
        "    else:\n",
        "        return True\n",
        "\n",
        "\n",
        "print(someRecursive([1,2,3,4], isOdd)) # true\n",
        "print(someRecursive([4,6,8,9], isOdd)) # true\n",
        "print(someRecursive([4,6,8], isOdd)) # false\n",
        "print(\"-----------------------------------------------------------------------------------\")\n",
        "print('flatten Solution')\n",
        "def flatten(arr):\n",
        "    resultArr = []\n",
        "    for custItem in arr:\n",
        "        if type(custItem) is list:\n",
        "            resultArr.extend(flatten(custItem))\n",
        "        else: \n",
        "            resultArr.append(custItem)\n",
        "    return resultArr \n",
        "\n",
        "\n",
        "\n",
        "print(flatten([1, 2, 3, [4, 5]])) # [1, 2, 3, 4, 5]\n",
        "print(flatten([1, [2, [3, 4], [[5]]]])) # [1, 2, 3, 4, 5]\n",
        "print(flatten([[1], [2], [3]])) # [1, 2, 3]\n",
        "print(flatten([[[[1], [[[2]]], [[[[[[[3]]]]]]]]]])) # [1, 2, 3]\n",
        "print(\"-----------------------------------------------------------------------------------\")\n",
        "print('capitalizeFirst Solution')\n",
        "\n",
        "def capitalizeFirst(arr):\n",
        "    result = []\n",
        "    if len(arr) == 0:\n",
        "        return result\n",
        "    result.append(arr[0][0].upper() + arr[0][1:])\n",
        "    return result + capitalizeFirst(arr[1:]) \n",
        "\n",
        "\n",
        "\n",
        "\n",
        "print(capitalizeFirst(['car', 'taco', 'banana'])) # ['Car','Taco','Banana']\n",
        "print(\"-----------------------------------------------------------------------------------\")\n",
        "print('nestedEvenSum Solution')\n",
        "\n",
        "def nestedEvenSum(obj, sum=0):\n",
        "    for key in obj:\n",
        "        if type(obj[key]) is dict:\n",
        "            sum += nestedEvenSum(obj[key])\n",
        "        elif type(obj[key]) is int and obj[key]%2==0:\n",
        "            sum+=obj[key]\n",
        "    return sum\n",
        "\n",
        "\n",
        "\n",
        "obj1 = {\n",
        "  \"outer\": 2,\n",
        "  \"obj\": {\n",
        "    \"inner\": 2,\n",
        "    \"otherObj\": {\n",
        "      \"superInner\": 2,\n",
        "      \"notANumber\": True,\n",
        "      \"alsoNotANumber\": \"yup\"\n",
        "    }\n",
        "  }\n",
        "}\n",
        "\n",
        "obj2 = {\n",
        "  \"a\": 2,\n",
        "  \"b\": {\"b\": 2, \"bb\": {\"b\": 3, \"bb\": {\"b\": 2}}},\n",
        "  \"c\": {\"c\": {\"c\": 2}, \"cc\": 'ball', \"ccc\": 5},\n",
        "  \"d\": 1,\n",
        "  \"e\": {\"e\": {\"e\": 2}, \"ee\": 'car'}\n",
        "}\n",
        "\n",
        "print(nestedEvenSum(obj1)) # 6\n",
        "print(nestedEvenSum(obj2)) # 10\n",
        "print(\"-----------------------------------------------------------------------------------\")\n",
        "print('capitalizeWords Solution')\n",
        "\n",
        "def capitalizeWords(arr):\n",
        "    result = []\n",
        "    if len(arr) == 0:\n",
        "        return result\n",
        "    result.append(arr[0].upper())\n",
        "    return result + capitalizeWords(arr[1:])\n",
        "\n",
        "\n",
        "\n",
        "words = ['i', 'am', 'learning', 'recursion']\n",
        "print(capitalizeWords(words)) # ['I', 'AM', 'LEARNING', 'RECURSION']\n",
        "print(\"-----------------------------------------------------------------------------------\")\n",
        "print('stringifyNumbers Solution')\n",
        "\n",
        "def stringifyNumbers(obj):\n",
        "    newObj = obj\n",
        "    for key in newObj:\n",
        "        if type(newObj[key]) is int:\n",
        "            newObj[key] = str(newObj[key])\n",
        "        if type(newObj[key]) is dict:\n",
        "            newObj[key] = stringifyNumbers(newObj[key])\n",
        "    return newObj\n",
        "\n",
        "\n",
        "\n",
        "obj = {\n",
        "  \"num\": 1,\n",
        "  \"test\": [],\n",
        "  \"data\": {\n",
        "    \"val\": 4,\n",
        "    \"info\": {\n",
        "      \"isRight\": True,\n",
        "      \"random\": 66\n",
        "    }\n",
        "  }\n",
        "}\n",
        "\n",
        "print(stringifyNumbers(obj))\n",
        "\n",
        "{'num': '1', \n",
        " 'test': [], \n",
        " 'data': {'val': '4', \n",
        "          'info': {'isRight': True, 'random': '66'}\n",
        "          }\n",
        "}\n",
        "print(\"-----------------------------------------------------------------------------------\")\n",
        "print('collectStrings Solution')\n",
        "\n",
        "def collectStrings(obj):\n",
        "    resultArr = []\n",
        "    for key in obj:\n",
        "        if type(obj[key]) is str:\n",
        "            resultArr.append(obj[key])\n",
        "        if type(obj[key]) is dict:\n",
        "            resultArr = resultArr + collectStrings(obj[key])\n",
        "    return resultArr\n",
        "\n",
        "\n",
        "\n",
        "obj = {\n",
        "  \"stuff\": 'foo',\n",
        "  \"data\": {\n",
        "    \"val\": {\n",
        "      \"thing\": {\n",
        "        \"info\": 'bar',\n",
        "        \"moreInfo\": {\n",
        "          \"evenMoreInfo\": {\n",
        "            \"weMadeIt\": 'baz'\n",
        "          }\n",
        "        }\n",
        "      }\n",
        "    }\n",
        "  }\n",
        "}\n",
        "\n",
        "print(collectStrings(obj)) # ['foo', 'bar', 'baz'])\n",
        "print(\"-----------------------------------------------------------------------------------\")"
      ],
      "metadata": {
        "id": "ohp1jRM6M0RX",
        "colab": {
          "base_uri": "https://localhost:8080/"
        },
        "outputId": "55fbf27a-6519-4010-ec19-bcc8b4cfc2ca"
      },
      "execution_count": 2,
      "outputs": [
        {
          "output_type": "stream",
          "name": "stdout",
          "text": [
            "Power Solution\n",
            "1\n",
            "4\n",
            "16\n",
            "-----------------------------------------------------------------------------------\n",
            "Factorial Solution\n",
            "1\n",
            "2\n",
            "24\n",
            "5040\n",
            "-----------------------------------------------------------------------------------\n",
            "productOfArray Solution\n",
            "6\n",
            "60\n",
            "-----------------------------------------------------------------------------------\n",
            "recursiveRange Solution\n",
            "21\n",
            "-----------------------------------------------------------------------------------\n",
            "fib Solution\n",
            "3\n",
            "55\n",
            "317811\n",
            "9227465\n",
            "-----------------------------------------------------------------------------------\n",
            "reverse Solution\n",
            "nohtyp\n",
            "srellimppa\n",
            "-----------------------------------------------------------------------------------\n",
            "isPalindrome Solution\n",
            "False\n",
            "False\n",
            "True\n",
            "True\n",
            "False\n",
            "-----------------------------------------------------------------------------------\n",
            "someRecursive Solution\n",
            "True\n",
            "True\n",
            "False\n",
            "-----------------------------------------------------------------------------------\n",
            "flatten Solution\n",
            "[1, 2, 3, 4, 5]\n",
            "[1, 2, 3, 4, 5]\n",
            "[1, 2, 3]\n",
            "[1, 2, 3]\n",
            "-----------------------------------------------------------------------------------\n",
            "capitalizeFirst Solution\n",
            "['Car', 'Taco', 'Banana']\n",
            "-----------------------------------------------------------------------------------\n",
            "nestedEvenSum Solution\n",
            "6\n",
            "10\n",
            "-----------------------------------------------------------------------------------\n",
            "capitalizeWords Solution\n",
            "['I', 'AM', 'LEARNING', 'RECURSION']\n",
            "-----------------------------------------------------------------------------------\n",
            "stringifyNumbers Solution\n",
            "{'num': '1', 'test': [], 'data': {'val': '4', 'info': {'isRight': True, 'random': '66'}}}\n",
            "-----------------------------------------------------------------------------------\n",
            "collectStrings Solution\n",
            "['foo', 'bar', 'baz']\n",
            "-----------------------------------------------------------------------------------\n"
          ]
        }
      ]
    },
    {
      "cell_type": "markdown",
      "source": [
        "#*OBJECT ORIENTED PROGRAMMING IN PYTHON*"
      ],
      "metadata": {
        "id": "1yAcOfPjFtuJ"
      }
    },
    {
      "cell_type": "markdown",
      "source": [
        "1. Instances and classes \n",
        "\n",
        "*   Attributes and Methods\n",
        "*   Method: A function that associated with the class.\n",
        "*   objects are instances of the classes and class is a blueprint for creating instances. Instance variables contains data, that is unique to each instance."
      ],
      "metadata": {
        "id": "YaSQ3YJFGGGZ"
      }
    },
    {
      "cell_type": "code",
      "source": [
        "class Employee:\n",
        "  pass\n",
        "\n",
        "emp_1 = Employee()\n",
        "emp_2 = Employee()\n",
        "\n",
        "print(emp_1)\n",
        "print(emp_2)"
      ],
      "metadata": {
        "colab": {
          "base_uri": "https://localhost:8080/"
        },
        "id": "aV188lLXGFTd",
        "outputId": "8b968954-526d-4397-f1c4-c8582d0e60b7"
      },
      "execution_count": null,
      "outputs": [
        {
          "output_type": "stream",
          "name": "stdout",
          "text": [
            "<__main__.Employee object at 0x7ffaf1331ad0>\n",
            "<__main__.Employee object at 0x7ffaf1331b10>\n"
          ]
        }
      ]
    }
  ]
}