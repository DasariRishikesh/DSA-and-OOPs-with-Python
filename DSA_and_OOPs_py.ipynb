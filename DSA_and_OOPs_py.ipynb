{
  "nbformat": 4,
  "nbformat_minor": 0,
  "metadata": {
    "colab": {
      "provenance": [],
      "collapsed_sections": [],
      "authorship_tag": "ABX9TyNf2OAu2YO5N/Kji4c8fMNI",
      "include_colab_link": true
    },
    "kernelspec": {
      "name": "python3",
      "display_name": "Python 3"
    },
    "language_info": {
      "name": "python"
    }
  },
  "cells": [
    {
      "cell_type": "markdown",
      "metadata": {
        "id": "view-in-github",
        "colab_type": "text"
      },
      "source": [
        "<a href=\"https://colab.research.google.com/github/DasariRishikesh/DSA-and-OOPs-with-Python/blob/main/DSA_and_OOPs_py.ipynb\" target=\"_parent\"><img src=\"https://colab.research.google.com/assets/colab-badge.svg\" alt=\"Open In Colab\"/></a>"
      ]
    },
    {
      "cell_type": "markdown",
      "source": [
        "##DATA STRUCTURES AND ALGORITHMS USING PYTHON PROGRAMMING LANGUAGE "
      ],
      "metadata": {
        "id": "ZKB3KQuCweM_"
      }
    },
    {
      "cell_type": "markdown",
      "source": [
        "#1.Recursion problems\n",
        "Step-1 : Recursive case - the flow\n",
        "\n",
        "Step-2 : Base Case - the stopping criterion\n",
        "\n",
        "Step-3 : The unconditional case - the constraint"
      ],
      "metadata": {
        "id": "AWy6h1mEpL84"
      }
    },
    {
      "cell_type": "markdown",
      "source": [
        "a. How to find a sum of digits of a positive integer number using recursion"
      ],
      "metadata": {
        "id": "Szi77gKWprI_"
      }
    },
    {
      "cell_type": "markdown",
      "source": [
        "sol : f(n) =  n%10 + f(n/10)"
      ],
      "metadata": {
        "id": "xlCn7raBstr8"
      }
    },
    {
      "cell_type": "code",
      "execution_count": null,
      "metadata": {
        "colab": {
          "base_uri": "https://localhost:8080/"
        },
        "id": "KDMhqTi2pEiw",
        "outputId": "bc941dd3-fadf-4010-ab4e-f56a360c3826"
      },
      "outputs": [
        {
          "output_type": "execute_result",
          "data": {
            "text/plain": [
              "19"
            ]
          },
          "metadata": {},
          "execution_count": 10
        }
      ],
      "source": [
        "def sumofdig(n):\n",
        "  assert n>=0 and int(n) == n,'The number must be positive integer'\n",
        "  if n==0:          #the base condition\n",
        "    return 0\n",
        "  else: \n",
        "    return int(n%10) + sumofdig(int(n/10))      #the recursive case\n",
        "\n",
        "sumofdig(4920202)"
      ]
    },
    {
      "cell_type": "markdown",
      "source": [
        "b. How to calculate power of number using recursion?"
      ],
      "metadata": {
        "id": "7abULvgMpKBM"
      }
    },
    {
      "cell_type": "markdown",
      "source": [
        "sol: f(X^n) = x * f(x^n-1)\n",
        "if n<0 then f(X^n) = x * f(x^n+1)"
      ],
      "metadata": {
        "id": "NzHZz0UiwrxW"
      }
    },
    {
      "cell_type": "code",
      "source": [
        "def powerofnum(base, pow):\n",
        "  assert int(pow) == pow, 'The power(exponent) should be posive and integer'\n",
        "  if pow==0:\n",
        "    return 1\n",
        "  elif pow<0:\n",
        "    return 1/base * powerofnum(base, pow+1)\n",
        "  else:\n",
        "    return base*powerofnum(base, pow-1)\n",
        "\n",
        "powerofnum(3,-2)\n"
      ],
      "metadata": {
        "colab": {
          "base_uri": "https://localhost:8080/"
        },
        "id": "rM3s86Sixm7K",
        "outputId": "bfe5b750-d6b2-4daf-ac86-69a5521e57fc"
      },
      "execution_count": null,
      "outputs": [
        {
          "output_type": "execute_result",
          "data": {
            "text/plain": [
              "0.1111111111111111"
            ]
          },
          "metadata": {},
          "execution_count": 29
        }
      ]
    },
    {
      "cell_type": "markdown",
      "source": [
        "c. Find the greatest common divisor(GCD) of two numbers using recursion."
      ],
      "metadata": {
        "id": "WzJTE07DzPIy"
      }
    },
    {
      "cell_type": "markdown",
      "source": [
        "sol: euclidean algorithm\n",
        "    gcd(a,b) = a/b => qoefficient= x and remainder = y\n",
        "    then again b/y until y==0\n",
        "    Therefore, gcd(a,b) return gcd(b, a mod b)"
      ],
      "metadata": {
        "id": "TNXNSjMF2td-"
      }
    },
    {
      "cell_type": "code",
      "source": [
        "def gcd(a,b):\n",
        "  assert int(a) == a and int(b)==b, 'The number must be posive integers'\n",
        "  if a<0:\n",
        "    a=-a\n",
        "  if b<0:\n",
        "    b=-b\n",
        "  if b==0:\n",
        "    return a\n",
        "  else:\n",
        "    return gcd(b, a%b)\n",
        "\n",
        "gcd(-12,-8)\n"
      ],
      "metadata": {
        "colab": {
          "base_uri": "https://localhost:8080/"
        },
        "id": "CYg438po4Tp9",
        "outputId": "db994b41-32cf-47ac-e908-4d07fbd24edf"
      },
      "execution_count": null,
      "outputs": [
        {
          "output_type": "execute_result",
          "data": {
            "text/plain": [
              "4"
            ]
          },
          "metadata": {},
          "execution_count": 35
        }
      ]
    },
    {
      "cell_type": "markdown",
      "source": [
        "d. How to convert a number from decimal to binary using recursion?"
      ],
      "metadata": {
        "id": "mWo7To8F4ULb"
      }
    },
    {
      "cell_type": "markdown",
      "source": [
        "sol: f(n) = n mod 2 + 10 * f(n/2)"
      ],
      "metadata": {
        "id": "x6s5uzG57tHe"
      }
    },
    {
      "cell_type": "code",
      "source": [
        "def dectobin(n):\n",
        "  assert int(n) == n, 'the number must be integer'\n",
        "  if n/2 == 0:\n",
        "    return 0\n",
        "  else:\n",
        "    return n%2 + 10 * dectobin(int(n/2))\n",
        "\n",
        "dectobin(101)"
      ],
      "metadata": {
        "colab": {
          "base_uri": "https://localhost:8080/"
        },
        "id": "OypmKzC57ptz",
        "outputId": "58ddc7e9-836b-4db9-f326-de9f88557ec8"
      },
      "execution_count": null,
      "outputs": [
        {
          "output_type": "execute_result",
          "data": {
            "text/plain": [
              "1100101"
            ]
          },
          "metadata": {},
          "execution_count": 53
        }
      ]
    },
    {
      "cell_type": "markdown",
      "source": [
        "**Additional problems**"
      ],
      "metadata": {
        "id": "VC8sHvtZ7qTp"
      }
    },
    {
      "cell_type": "markdown",
      "source": [
        "* Reverse Strings - f(n) = n[len(n)-1] + f(0:n-1)\n",
        "* Is Palindrome or Not - if lenngth =0 return ture\n",
        "if n(0) not equals n(length-1) return false\n",
        "return f(n) \n",
        "* Capitilize first - \n",
        "* Nested Even Sum\n",
        "* Capitalize Words\n",
        "* Strgify Numbers\n",
        "* COllect Strings"
      ],
      "metadata": {
        "id": "I3RPiUDarYnj"
      }
    },
    {
      "cell_type": "code",
      "source": [],
      "metadata": {
        "id": "ohp1jRM6M0RX"
      },
      "execution_count": null,
      "outputs": []
    },
    {
      "cell_type": "markdown",
      "source": [
        "#*OBJECT ORIENTED PROGRAMMING IN PYTHON*"
      ],
      "metadata": {
        "id": "1yAcOfPjFtuJ"
      }
    },
    {
      "cell_type": "markdown",
      "source": [
        "1. Instances and classes \n",
        "\n",
        "*   Attributes and Methods\n",
        "*   Method: A function that associated with the class.\n",
        "*   objects are instances of the classes and class is a blueprint for creating instances. Instance variables contains data, that is unique to each instance."
      ],
      "metadata": {
        "id": "YaSQ3YJFGGGZ"
      }
    },
    {
      "cell_type": "code",
      "source": [
        "class Employee:\n",
        "  pass\n",
        "\n",
        "emp_1 = Employee()\n",
        "emp_2 = Employee()\n",
        "\n",
        "print(emp_1)\n",
        "print(emp_2)"
      ],
      "metadata": {
        "colab": {
          "base_uri": "https://localhost:8080/"
        },
        "id": "aV188lLXGFTd",
        "outputId": "8b968954-526d-4397-f1c4-c8582d0e60b7"
      },
      "execution_count": null,
      "outputs": [
        {
          "output_type": "stream",
          "name": "stdout",
          "text": [
            "<__main__.Employee object at 0x7ffaf1331ad0>\n",
            "<__main__.Employee object at 0x7ffaf1331b10>\n"
          ]
        }
      ]
    }
  ]
}